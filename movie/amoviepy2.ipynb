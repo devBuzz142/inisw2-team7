{
 "cells": [
  {
   "cell_type": "code",
   "execution_count": 3,
   "id": "51df86fb",
   "metadata": {},
   "outputs": [
    {
     "name": "stdout",
     "output_type": "stream",
     "text": [
      "Requirement already satisfied: moviepy in c:\\users\\hjn\\anaconda3\\envs\\coongya\\lib\\site-packages (1.0.3)\n",
      "Requirement already satisfied: decorator<5.0,>=4.0.2 in c:\\users\\hjn\\anaconda3\\envs\\coongya\\lib\\site-packages (from moviepy) (4.4.2)\n",
      "Requirement already satisfied: tqdm<5.0,>=4.11.2 in c:\\users\\hjn\\anaconda3\\envs\\coongya\\lib\\site-packages (from moviepy) (4.64.1)\n",
      "Requirement already satisfied: requests<3.0,>=2.8.1 in c:\\users\\hjn\\anaconda3\\envs\\coongya\\lib\\site-packages (from moviepy) (2.28.1)\n",
      "Requirement already satisfied: proglog<=1.0.0 in c:\\users\\hjn\\anaconda3\\envs\\coongya\\lib\\site-packages (from moviepy) (0.1.10)\n",
      "Requirement already satisfied: numpy>=1.17.3 in c:\\users\\hjn\\anaconda3\\envs\\coongya\\lib\\site-packages (from moviepy) (1.23.5)\n",
      "Requirement already satisfied: imageio<3.0,>=2.5 in c:\\users\\hjn\\anaconda3\\envs\\coongya\\lib\\site-packages (from moviepy) (2.29.0)\n",
      "Requirement already satisfied: imageio-ffmpeg>=0.2.0 in c:\\users\\hjn\\anaconda3\\envs\\coongya\\lib\\site-packages (from moviepy) (0.4.8)\n",
      "Requirement already satisfied: pillow>=8.3.2 in c:\\users\\hjn\\anaconda3\\envs\\coongya\\lib\\site-packages (from imageio<3.0,>=2.5->moviepy) (9.5.0)\n",
      "Requirement already satisfied: charset-normalizer<3,>=2 in c:\\users\\hjn\\anaconda3\\envs\\coongya\\lib\\site-packages (from requests<3.0,>=2.8.1->moviepy) (2.0.4)\n",
      "Requirement already satisfied: idna<4,>=2.5 in c:\\users\\hjn\\anaconda3\\envs\\coongya\\lib\\site-packages (from requests<3.0,>=2.8.1->moviepy) (3.4)\n",
      "Requirement already satisfied: urllib3<1.27,>=1.21.1 in c:\\users\\hjn\\anaconda3\\envs\\coongya\\lib\\site-packages (from requests<3.0,>=2.8.1->moviepy) (1.26.15)\n",
      "Requirement already satisfied: certifi>=2017.4.17 in c:\\users\\hjn\\anaconda3\\envs\\coongya\\lib\\site-packages (from requests<3.0,>=2.8.1->moviepy) (2022.12.7)\n",
      "Requirement already satisfied: colorama in c:\\users\\hjn\\anaconda3\\envs\\coongya\\lib\\site-packages (from tqdm<5.0,>=4.11.2->moviepy) (0.4.6)\n"
     ]
    },
    {
     "name": "stderr",
     "output_type": "stream",
     "text": [
      "WARNING: Ignoring invalid distribution -pype1 (c:\\users\\hjn\\anaconda3\\envs\\coongya\\lib\\site-packages)\n",
      "WARNING: Ignoring invalid distribution -pype1 (c:\\users\\hjn\\anaconda3\\envs\\coongya\\lib\\site-packages)\n"
     ]
    },
    {
     "name": "stdout",
     "output_type": "stream",
     "text": [
      "Requirement already satisfied: opencv-python in c:\\users\\hjn\\anaconda3\\envs\\coongya\\lib\\site-packages (4.7.0.72)\n",
      "Requirement already satisfied: numpy>=1.17.0 in c:\\users\\hjn\\anaconda3\\envs\\coongya\\lib\\site-packages (from opencv-python) (1.23.5)\n"
     ]
    },
    {
     "name": "stderr",
     "output_type": "stream",
     "text": [
      "WARNING: Ignoring invalid distribution -pype1 (c:\\users\\hjn\\anaconda3\\envs\\coongya\\lib\\site-packages)\n",
      "WARNING: Ignoring invalid distribution -pype1 (c:\\users\\hjn\\anaconda3\\envs\\coongya\\lib\\site-packages)\n"
     ]
    },
    {
     "name": "stdout",
     "output_type": "stream",
     "text": [
      "Requirement already satisfied: numpy in c:\\users\\hjn\\anaconda3\\envs\\coongya\\lib\\site-packages (1.23.5)\n"
     ]
    },
    {
     "name": "stderr",
     "output_type": "stream",
     "text": [
      "WARNING: Ignoring invalid distribution -pype1 (c:\\users\\hjn\\anaconda3\\envs\\coongya\\lib\\site-packages)\n",
      "WARNING: Ignoring invalid distribution -pype1 (c:\\users\\hjn\\anaconda3\\envs\\coongya\\lib\\site-packages)\n"
     ]
    }
   ],
   "source": [
    "!pip install moviepy\n",
    "!pip install opencv-python\n",
    "!pip install numpy\n",
    "# googletrans\n",
    "!pip install googletrans==4.0.0rc"
   ]
  },
  {
   "cell_type": "code",
   "execution_count": 1,
   "id": "ebfc7066",
   "metadata": {},
   "outputs": [],
   "source": [
    "from moviepy.editor import VideoFileClip, TextClip, CompositeVideoClip\n",
    "from moviepy.video.tools.subtitles import SubtitlesClip\n",
    "\n",
    "from googletrans import Translator\n",
    "from langdetect import detect\n",
    "translator = Translator()\n",
    "import re\n",
    "import codecs"
   ]
  },
  {
   "cell_type": "code",
   "execution_count": 2,
   "id": "a5424692",
   "metadata": {},
   "outputs": [],
   "source": [
    "from moviepy.config import change_settings\n",
    "change_settings({\"IMAGEMAGICK_BINARY\": r\"C:\\Program Files\\ImageMagick-7.1.1-Q16-HDRI\\\\magick.exe\"})"
   ]
  },
  {
   "cell_type": "code",
   "execution_count": 14,
   "id": "8558a168",
   "metadata": {},
   "outputs": [],
   "source": [
    "# 자막 파일 경로\n",
    "srt_path = \"C:/Users/hjn/Downloads/subtitles_out33.srt\"\n",
    "# 동영상 파일 경로\n",
    "video_path = \"C:/Users/hjn/Downloads/input.avi\"\n",
    "# 동영상 로드\n",
    "video = VideoFileClip(video_path)\n",
    "# 동영상 추출\n",
    "#output_path=\"C:/Users/ella6/Videos/output6.mp4\"\n",
    "# 원하는 추출 언어\n",
    "output_lang = 'ko'\n",
    "# 얼굴 pickle 파일\n",
    "face_pickle = \"C:/Users/hjn/Downloads/faces.pckl\""
   ]
  },
  {
   "cell_type": "code",
   "execution_count": 15,
   "id": "b73429e3",
   "metadata": {},
   "outputs": [
    {
     "name": "stdout",
     "output_type": "stream",
     "text": [
      "['WEBVTT\\r\\n', '\\r\\n', '1\\r\\n', '00:00:04.300 --> 00:00:06.869\\r\\n', 'Appears to be a standard sequence violation\\r\\n', '\\r\\n', '2\\r\\n', '00:00:07.530 --> 00:00:12.500\\r\\n', 'branch is growing at a stable rate and slope variant identified.\\r\\n', '\\r\\n', '3\\r\\n', '00:00:13.630 --> 00:00:14.600\\r\\n', 'I beg your pardon.\\r\\n', '\\r\\n', '4\\r\\n', '00:00:14.689 --> 00:00:17.430\\r\\n', 'On behalf of the time variance authority,\\r\\n', '\\r\\n', '5\\r\\n', '00:00:17.440 --> 00:00:20.620\\r\\n', 'I hereby arrest you for crimes against the sacred timeline.\\r\\n', '\\r\\n', '6\\r\\n', '00:00:21.170 --> 00:00:22.079\\r\\n', 'Hands up.\\r\\n', '\\r\\n', '7\\r\\n', '00:00:23.110 --> 00:00:24.540\\r\\n', \"You're coming with us.\\r\\n\", '\\r\\n', '8\\r\\n', '00:00:25.409 --> 00:00:26.860\\r\\n', \"I'm sorry. Who's us?\\r\\n\", '\\r\\n', '9\\r\\n', '00:00:28.739 --> 00:00:30.409\\r\\n', 'Last chance variant?\\r\\n', '\\r\\n', '10\\r\\n', '00:00:34.479 --> 00:00:35.950\\r\\n', \"It's been a very long day\\r\\n\", '\\r\\n', '11\\r\\n', '00:00:36.369 --> 00:00:39.580\\r\\n', \"and I think I've had my fill of idiots in armored suits telling me what to do.\\r\\n\", '\\r\\n', '12\\r\\n', '00:00:39.590 --> 00:00:42.020\\r\\n', \"So if you don't mind, this is actually\\r\\n\", '\\r\\n', '13\\r\\n', '00:00:42.349 --> 00:00:43.810\\r\\n', 'your last chance.\\r\\n', '\\r\\n', '14\\r\\n', '00:00:45.380 --> 00:00:47.270\\r\\n', 'Now, guess I was on my way.']\n"
     ]
    }
   ],
   "source": [
    "import pickle\n",
    "\n",
    "# pickle 파일 읽기\n",
    "with open(face_pickle, 'rb') as f:\n",
    "    faces = pickle.load(f)\n",
    "    \n",
    "#with open(srt_path, \"r\") as f:\n",
    "#    lines = f.readlines()\n",
    "\n",
    "# srt 파일 읽기\n",
    "with codecs.open(srt_path, 'r', 'utf-8') as file:\n",
    "    lines = file.readlines()"
   ]
  },
  {
   "cell_type": "code",
   "execution_count": 16,
   "id": "ecd21219",
   "metadata": {},
   "outputs": [],
   "source": [
    "# srt파일의 시간을 초단위로 변경하는 함수\n",
    "def time_to_seconds(time_str):\n",
    "    h, m, s = map(int, time_str.split(':'))\n",
    "    seconds = h * 3600 + m * 60 + s\n",
    "    return seconds\n",
    "\n",
    "# 번역함수\n",
    "def translate(text, target='ko'):\n",
    "    # do not translate if text is Korean.\n",
    "    if detect(text) == target:\n",
    "        return text\n",
    "\n",
    "    result = translator.translate(text, str(target)).text\n",
    "    return result"
   ]
  },
  {
   "cell_type": "code",
   "execution_count": 22,
   "id": "6c14aed4",
   "metadata": {},
   "outputs": [],
   "source": [
    "# 자막이 배치된 리스트\n",
    "subtitles_clip = []\n",
    "\n",
    "for i in range(0, len(lines)-2, 4):\n",
    "    # aws이면 앞의 두줄 삭제\n",
    "    line_2 = lines[2:]\n",
    "    # srt파일에서 자막의 시작시간과 끝 시간을 뽑아주는 함수\n",
    "    start_time, end_time = line_2[i + 1].strip().replace('\\r','').split(' --> ')\n",
    "    text = line_2[i + 2].strip()\n",
    "    \n",
    "    # 자막 생성 안되었을 경우 에러 방지\n",
    "    if text == '':\n",
    "        continue\n",
    "        \n",
    "    # 원하는 언어로 자막 번역\n",
    "    text = translate(text, str(output_lang))\n",
    "    # 자막을 배치\n",
    "    text_clip = TextClip(text, fontsize=24, color='white', font='Arial-Unicode-MS')\\\n",
    "    .set_position((\"center\", \"bottom\")).set_start(start_time).set_end(end_time)\n",
    "    \n",
    "    start = int(time_to_seconds(start_time.split('.')[0])*video.fps)\n",
    "    end = int(time_to_seconds(end_time.split('.')[0])*video.fps)\n",
    "    mid = int((start+end)//2)\n",
    "    # 자막의 중간시간 기준으로 나타나는 bounding box가 없을때 아래쪽에 자막 배치\n",
    "    if [d['bbox'] for d in faces[mid]] == []:\n",
    "        text_clip = text_clip.set_position((\"center\", \"bottom\"))\n",
    "        text_clip = text_clip.set_start(start_time).set_end(end_time)\n",
    "    # 자막의 중간시간 기준에 나타나는 bounding box 기준으로 자막 배치\n",
    "    else:\n",
    "        # bounding box의 왼쪽 아래 모서리부분에 자막배치\n",
    "        x, y = [d['bbox'] for d in faces[mid]][0][0], [d['bbox'] for d in faces[mid]][0][3]\n",
    "        text_clip = text_clip.set_position([x, y])\n",
    "        text_clip = text_clip.set_start(start_time).set_end(end_time)\n",
    "    subtitles_clip.append(text_clip)"
   ]
  },
  {
   "cell_type": "code",
   "execution_count": 7,
   "id": "ba54ca5c",
   "metadata": {},
   "outputs": [],
   "source": [
    "# 텍스트 클립들을 동영상 위에 합성\n",
    "video_with_text = CompositeVideoClip([video] + subtitles_clip)"
   ]
  },
  {
   "cell_type": "code",
   "execution_count": 8,
   "id": "c53672cd",
   "metadata": {},
   "outputs": [
    {
     "name": "stdout",
     "output_type": "stream",
     "text": [
      "Moviepy - Building video C:/Users/hjn/Downloads/moviepyvideos/output29.mp4.\n",
      "MoviePy - Writing audio in output29TEMP_MPY_wvf_snd.mp4\n"
     ]
    },
    {
     "name": "stderr",
     "output_type": "stream",
     "text": [
      "                                                                                                                       \r"
     ]
    },
    {
     "name": "stdout",
     "output_type": "stream",
     "text": [
      "MoviePy - Done.\n",
      "Moviepy - Writing video C:/Users/hjn/Downloads/moviepyvideos/output29.mp4\n",
      "\n"
     ]
    },
    {
     "name": "stderr",
     "output_type": "stream",
     "text": [
      "                                                                                                                       \r"
     ]
    },
    {
     "name": "stdout",
     "output_type": "stream",
     "text": [
      "Moviepy - Done !\n",
      "Moviepy - video ready C:/Users/hjn/Downloads/moviepyvideos/output29.mp4\n"
     ]
    }
   ],
   "source": [
    "# 합성된 동영상을 저장\n",
    "output_path=\"C:/Users/hjn/Downloads/moviepyvideos/output29.mp4\"\n",
    "video_with_text.write_videofile(output_path, codec='libx264', audio_codec='aac')"
   ]
  },
  {
   "cell_type": "code",
   "execution_count": null,
   "id": "cf6b2041",
   "metadata": {},
   "outputs": [],
   "source": []
  }
 ],
 "metadata": {
  "kernelspec": {
   "display_name": "Python 3 (ipykernel)",
   "language": "python",
   "name": "python3"
  },
  "language_info": {
   "codemirror_mode": {
    "name": "ipython",
    "version": 3
   },
   "file_extension": ".py",
   "mimetype": "text/x-python",
   "name": "python",
   "nbconvert_exporter": "python",
   "pygments_lexer": "ipython3",
   "version": "3.9.16"
  }
 },
 "nbformat": 4,
 "nbformat_minor": 5
}
