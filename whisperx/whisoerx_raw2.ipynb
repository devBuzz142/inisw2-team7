{
  "cells": [
    {
      "cell_type": "markdown",
      "metadata": {
        "id": "view-in-github",
        "colab_type": "text"
      },
      "source": [
        "<a href=\"https://colab.research.google.com/github/devBuzz142/inisw2-team7/blob/stt/whisoerx_raw2.ipynb\" target=\"_parent\"><img src=\"https://colab.research.google.com/assets/colab-badge.svg\" alt=\"Open In Colab\"/></a>"
      ]
    },
    {
      "cell_type": "code",
      "execution_count": null,
      "metadata": {
        "id": "qOvuB5_wq76s"
      },
      "outputs": [],
      "source": [
        "!pip3 install --upgrade torch torchvision\n",
        "#cuda 설정 위해 torchvision 설치"
      ]
    },
    {
      "cell_type": "code",
      "execution_count": null,
      "metadata": {
        "id": "i4S-Z2w4rKIe"
      },
      "outputs": [],
      "source": [
        "!pip install setuptools-rust\n",
        "#아래 코드 6줄은 cuda 설정 및 whisperx를 사용하기 위한 코드"
      ]
    },
    {
      "cell_type": "code",
      "execution_count": null,
      "metadata": {
        "id": "qbMWDPjXrKOI"
      },
      "outputs": [],
      "source": [
        "!pip install -U openai-whisper"
      ]
    },
    {
      "cell_type": "code",
      "execution_count": null,
      "metadata": {
        "id": "aiwAP1_BrKQJ"
      },
      "outputs": [],
      "source": [
        "!pip install --upgrade --no-deps --force-reinstall git+https://github.com/openai/whisper.git"
      ]
    },
    {
      "cell_type": "code",
      "execution_count": null,
      "metadata": {
        "id": "DG2If5ZvrKSN"
      },
      "outputs": [],
      "source": [
        "!pip install git+https://github.com/m-bain/whisperx.git --upgrade"
      ]
    },
    {
      "cell_type": "code",
      "execution_count": null,
      "metadata": {
        "id": "BKFQ-Qo_rKUF"
      },
      "outputs": [],
      "source": [
        "!git clone https://github.com/m-bain/whisperX.git"
      ]
    },
    {
      "cell_type": "code",
      "execution_count": null,
      "metadata": {
        "id": "Lz7m69igrKWL"
      },
      "outputs": [],
      "source": [
        "!sudo apt update && sudo apt install ffmpeg-python"
      ]
    },
    {
      "cell_type": "code",
      "execution_count": null,
      "metadata": {
        "id": "PE7DopX8rKYS"
      },
      "outputs": [],
      "source": [
        "!pip install torch==2.0.0+cu117 torchvision==0.15.1+cu117 torchaudio==2.0.1 --index-url https://download.pytorch.org/whl/cu117"
      ]
    },
    {
      "cell_type": "code",
      "execution_count": null,
      "metadata": {
        "colab": {
          "background_save": true
        },
        "id": "wp8ablCasGZf"
      },
      "outputs": [],
      "source": [
        "import torch\n",
        "import torchvision\n",
        "import torch.nn\n",
        "#cuda 사용하기 위해 import "
      ]
    },
    {
      "cell_type": "code",
      "execution_count": null,
      "metadata": {
        "colab": {
          "background_save": true
        },
        "id": "P-HJKp1zsL3e"
      },
      "outputs": [],
      "source": [
        "torch.cuda.is_available()\n",
        "#윗 코드 정상적으로 실행했다면 True 리턴"
      ]
    },
    {
      "cell_type": "code",
      "execution_count": null,
      "metadata": {
        "colab": {
          "background_save": true
        },
        "id": "ypeSo7uNWmpS"
      },
      "outputs": [],
      "source": [
        "%cd whisperX\n",
        "#option"
      ]
    },
    {
      "cell_type": "code",
      "execution_count": null,
      "metadata": {
        "colab": {
          "background_save": true
        },
        "id": "arxYBc-fWXJq"
      },
      "outputs": [],
      "source": [
        "import os\n",
        "os.getcwd()\n",
        "#혹시나해서 써둔 현재 작업 디렉토리 확인용 코드 "
      ]
    },
    {
      "cell_type": "code",
      "execution_count": null,
      "metadata": {
        "id": "T6fPCF55rKaK"
      },
      "outputs": [],
      "source": [
        "import whisperx\n",
        "import gc \n",
        "import ffmpeg\n",
        "#미디어 파일들 사용하기 위한 라이브러리\n",
        "import datetime\n",
        "#SRT 파일 작성하기 위한 라이브러리\n",
        "\n",
        "\n",
        "device = \"cuda\"  \n",
        "#cuda 설정이 되어있지 않다면 \"cpu\"로 변경\n",
        "audio_file = \"conan_audio.mp3\"\n",
        "#작업 디렉토리 내에 오디오 파일을 넣어서 작업(사전에 !mkdir로 폴더 생성해도 작업 경로 옮긴 후, 경로입력해서 실행해도 좋다)\n",
        "batch_size = 4 \n",
        "# 높을수록 연산 속도가 더뎌지고 성능 높아짐\n",
        "compute_type = \"int8\" \n",
        "# float으로 변경 시 성능 상승, 속도 감소\n",
        "\n",
        "\n",
        "model = whisperx.load_model(r\"medium\", device, compute_type=compute_type)\n",
        "#모델 사이즈를 지정할 수 있는 코드 (base medium large large-v1 large-v2)\n",
        "\n",
        "audio = whisperx.load_audio(audio_file)\n",
        "result = model.transcribe(audio, batch_size=batch_size)\n",
        "#지정한 배치 크기로 오디오에서 음성을 전사(transcribe)하는 구간\n",
        "\n",
        "model_a, metadata = whisperx.load_align_model(language_code=result[\"language\"], device=device)\n",
        "result = whisperx.align(result[\"segments\"], model_a, metadata, audio, device, return_char_alignments=False)\n",
        "# 결과값들과 GPU를 통해 처리한 metadata를 result 변수에 수합\n",
        "\n",
        "#아래 코드블럭은 전부 srt파일을 작성하는 코드\n",
        "def generate_srt_text(result):\n",
        "    srt_text = \"\"\n",
        "    segment_number = 1\n",
        "\n",
        "    for segment in result[\"segments\"]:\n",
        "        start_time = segment[\"start\"]\n",
        "        end_time = segment[\"end\"]\n",
        "        text = segment[\"text\"]\n",
        "\n",
        "        # Convert time to srt format (hh:mm:ss,mmm)\n",
        "        start_time_str = format_time_exact(start_time)\n",
        "        end_time_str = format_time_exact(end_time)\n",
        "\n",
        "        srt_text += f\"{segment_number}\\n{start_time_str} --> {end_time_str}\\n{text}\\n\\n\"\n",
        "        segment_number += 1\n",
        "\n",
        "    return srt_text\n",
        "\n",
        "def format_time_exact(seconds):\n",
        "    duration = datetime.timedelta(seconds=seconds)\n",
        "    hours = duration.seconds // 3600\n",
        "    minutes = (duration.seconds % 3600) // 60\n",
        "    seconds = duration.seconds % 60\n",
        "    milliseconds = duration.microseconds // 1000\n",
        "\n",
        "    time_str = \"{:02d}:{:02d}:{:02d},{:03d}\".format(hours, minutes, seconds, milliseconds)\n",
        "    return time_str\n",
        "\n",
        "\n",
        "srt_text = generate_srt_text(result)\n",
        "\n",
        "# SRT 파일이 작성된 후, 작업 디렉토리에 저장\n",
        "with open(\"conan_sub.srt\", \"w\", encoding=\"utf-8\") as file:\n",
        "    file.write(srt_text)"
      ]
    }
  ],
  "metadata": {
    "colab": {
      "provenance": [],
      "authorship_tag": "ABX9TyNNzJN11CIzjOcyp4xzp7Vi",
      "include_colab_link": true
    },
    "kernelspec": {
      "display_name": "Python 3",
      "name": "python3"
    },
    "language_info": {
      "name": "python"
    }
  },
  "nbformat": 4,
  "nbformat_minor": 0
}